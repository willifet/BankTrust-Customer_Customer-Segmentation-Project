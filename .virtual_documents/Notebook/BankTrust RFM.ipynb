


import numpy as np
import pandas as pd
import matplotlib.pyplot as plt
import seaborn as sns


#Load dataset

data = pd.read_csv("../Dataset/bank_data_C.csv")
data.head()


data.describe(include = 'all')


data.info()


data.dtypes





data.head(5)


#Checking for missing value

data.isnull().sum()



